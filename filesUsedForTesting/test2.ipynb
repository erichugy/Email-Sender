{
 "cells": [
  {
   "cell_type": "code",
   "execution_count": 11,
   "metadata": {},
   "outputs": [
    {
     "name": "stdout",
     "output_type": "stream",
     "text": [
      "Got here\n",
      "Got here\n"
     ]
    }
   ],
   "source": [
    "from emailClass import Email\n",
    "from getRecipients import recipients\n",
    "from wordToHtml import word_to_html\n",
    "from fileMaster import extract_filename, cwd, move_files_to_subdirectory\n",
    "\n",
    "# Global Variables\n",
    "## Inputs\n",
    "WORD_PATH = r\"C:\\Users\\Eric Huang\\Desktop\\Coding\\Email Sender\\msg_2023-01-09.docx\"\n",
    "SUBJECT = \"Monthly Mail: The First of Many\"\n",
    "\n",
    "\n",
    "\n",
    "## Default Inputs\n",
    "SIGNATURE_PATH = cwd + r\"\\Signatures\\Uni Student (eric.huang5@mail.mcgill.ca).htm\"\n",
    "\n",
    "## Calculated Global Variables\n",
    "FILENAME = extract_filename(WORD_PATH)\n",
    "\n",
    "\n",
    "#----------------------------------\n",
    "# Step 1: Convert word file of email to html\n",
    "\n",
    "word_to_html(WORD_PATH, FILENAME)\n",
    "\n",
    "print(\"Got here\")\n",
    "#----------------------------------\n",
    "# Step 2: Read HTMLs  as strings\n",
    "attempts = 0\n",
    "import time\n",
    "while attempts < 10:\n",
    "    try:\n",
    "        with open(f'{FILENAME}.htm', 'r') as file:\n",
    "            html = file.read()\n",
    "        break\n",
    "    except FileNotFoundError:\n",
    "        time.sleep(5)\n",
    "        print(\"Attempt \" + attempts)\n",
    "        attempts += 1\n",
    "print(\"Got here\")\n",
    "\n",
    "with open(SIGNATURE_PATH, \"r\") as file:\n",
    "    signature = file.read()\n",
    "\n",
    "email = Email(\n",
    "    recipients = recipients,\n",
    "    subject = SUBJECT,\n",
    "    msg = html,\n",
    "    signature = signature\n",
    ")\n",
    "\n",
    "\n",
    "move_files_to_subdirectory([f\"{FILENAME}.htm\"])"
   ]
  }
 ],
 "metadata": {
  "kernelspec": {
   "display_name": "email-sender-env",
   "language": "python",
   "name": "python3"
  },
  "language_info": {
   "codemirror_mode": {
    "name": "ipython",
    "version": 3
   },
   "file_extension": ".py",
   "mimetype": "text/x-python",
   "name": "python",
   "nbconvert_exporter": "python",
   "pygments_lexer": "ipython3",
   "version": "3.10.8"
  },
  "orig_nbformat": 4,
  "vscode": {
   "interpreter": {
    "hash": "ca0592fd784d5b1ea4ddfe664e5caa47384cb18ff3ac4de613a3d11f4d5bc006"
   }
  }
 },
 "nbformat": 4,
 "nbformat_minor": 2
}
