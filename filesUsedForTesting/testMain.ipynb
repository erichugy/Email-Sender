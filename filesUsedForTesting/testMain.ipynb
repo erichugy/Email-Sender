{
 "cells": [
  {
   "cell_type": "code",
   "execution_count": 3,
   "metadata": {},
   "outputs": [
    {
     "ename": "com_error",
     "evalue": "(-2147352567, 'Exception occurred.', (0, 'Microsoft Word', 'Sorry, we couldn\\'t find your file. Was it moved, renamed, or deleted?\\r (\"C:\\\\Users\\\\...\\\\msg_2023-01-09.docx\")', 'wdmain11.chm', 24654, -2146823114), None)",
     "output_type": "error",
     "traceback": [
      "\u001b[1;31m---------------------------------------------------------------------------\u001b[0m",
      "\u001b[1;31mcom_error\u001b[0m                                 Traceback (most recent call last)",
      "Cell \u001b[1;32mIn[3], line 23\u001b[0m\n\u001b[0;32m     17\u001b[0m FILENAME \u001b[39m=\u001b[39m extract_filename(WORD_PATH)\n\u001b[0;32m     20\u001b[0m \u001b[39m#----------------------------------\u001b[39;00m\n\u001b[0;32m     21\u001b[0m \u001b[39m# Step 1: Convert word file of email to html\u001b[39;00m\n\u001b[1;32m---> 23\u001b[0m word_to_html(WORD_PATH, FILENAME)\n\u001b[0;32m     25\u001b[0m \u001b[39mprint\u001b[39m(\u001b[39m\"\u001b[39m\u001b[39mGot here\u001b[39m\u001b[39m\"\u001b[39m)\n\u001b[0;32m     26\u001b[0m \u001b[39m#----------------------------------\u001b[39;00m\n\u001b[0;32m     27\u001b[0m \u001b[39m# Step 2: Read HTMLs  as strings\u001b[39;00m\n",
      "File \u001b[1;32mc:\\Users\\Eric Huang\\Desktop\\Coding\\Email Sender\\wordToHtml.py:28\u001b[0m, in \u001b[0;36mword_to_html\u001b[1;34m(full_path, filename, save_to_path)\u001b[0m\n\u001b[0;32m     25\u001b[0m word \u001b[39m=\u001b[39m win32com\u001b[39m.\u001b[39mclient\u001b[39m.\u001b[39mDispatch(\u001b[39m'\u001b[39m\u001b[39mWord.Application\u001b[39m\u001b[39m'\u001b[39m)\n\u001b[0;32m     27\u001b[0m \u001b[39m# Open the document\u001b[39;00m\n\u001b[1;32m---> 28\u001b[0m doc \u001b[39m=\u001b[39m word\u001b[39m.\u001b[39;49mDocuments\u001b[39m.\u001b[39;49mOpen(full_path)\n\u001b[0;32m     30\u001b[0m \u001b[39m# Save the document as HTML\u001b[39;00m\n\u001b[0;32m     31\u001b[0m \u001b[39mtry\u001b[39;00m:\n",
      "File \u001b[1;32m<COMObject <unknown>>:5\u001b[0m, in \u001b[0;36mOpen\u001b[1;34m(self, FileName, ConfirmConversions, ReadOnly, AddToRecentFiles, PasswordDocument, PasswordTemplate, Revert, WritePasswordDocument, WritePasswordTemplate, Format, Encoding, Visible, OpenAndRepair, DocumentDirection, NoEncodingDialog, XMLTransform)\u001b[0m\n",
      "\u001b[1;31mcom_error\u001b[0m: (-2147352567, 'Exception occurred.', (0, 'Microsoft Word', 'Sorry, we couldn\\'t find your file. Was it moved, renamed, or deleted?\\r (\"C:\\\\Users\\\\...\\\\msg_2023-01-09.docx\")', 'wdmain11.chm', 24654, -2146823114), None)"
     ]
    }
   ],
   "source": [
    "from emailClass import Email\n",
    "from getRecipients import recipients\n",
    "from wordToHtml import word_to_html\n",
    "from fileMaster import extract_filename, cwd, move_files_to_subdirectory\n",
    "\n",
    "# Global Variables\n",
    "## Inputs\n",
    "WORD_PATH = r\"C:\\Users\\Eric Huang\\Desktop\\Coding\\Email Sender\\msg_2023-01-09.docx\"\n",
    "SUBJECT = \"Monthly Mail: The First of Many\"\n",
    "\n",
    "\n",
    "\n",
    "## Default Inputs\n",
    "SIGNATURE_PATH = cwd + r\"\\Signatures\\Uni Student (eric.huang5@mail.mcgill.ca).htm\"\n",
    "\n",
    "## Calculated Global Variables\n",
    "FILENAME = extract_filename(WORD_PATH)\n",
    "\n",
    "\n",
    "#----------------------------------\n",
    "# Step 1: Convert word file of email to html\n",
    "\n",
    "word_to_html(WORD_PATH, FILENAME)\n",
    "\n",
    "print(\"Got here\")\n",
    "#----------------------------------\n",
    "# Step 2: Read HTMLs  as strings\n",
    "attempts = 0\n",
    "import time\n",
    "while attempts < 10:\n",
    "    try:\n",
    "        with open(f'{FILENAME}.htm', 'r') as file:\n",
    "            html = file.read()\n",
    "        break \n",
    "\n",
    "    except FileNotFoundError:\n",
    "        time.sleep(5)\n",
    "        print(\"Attempt \" + attempts)\n",
    "        attempts += 1\n",
    "print(\"Got here\")\n",
    "\n",
    "with open(SIGNATURE_PATH, \"r\") as file:\n",
    "    signature = file.read()\n",
    "\n",
    "email = Email(\n",
    "    recipients = recipients,\n",
    "    subject = SUBJECT,\n",
    "    msg = html,\n",
    "    signature = signature\n",
    ")\n",
    "\n",
    "\n",
    "move_files_to_subdirectory([f\"{FILENAME}.htm\"])"
   ]
  }
 ],
 "metadata": {
  "kernelspec": {
   "display_name": "email-sender-env",
   "language": "python",
   "name": "python3"
  },
  "language_info": {
   "codemirror_mode": {
    "name": "ipython",
    "version": 3
   },
   "file_extension": ".py",
   "mimetype": "text/x-python",
   "name": "python",
   "nbconvert_exporter": "python",
   "pygments_lexer": "ipython3",
   "version": "3.10.8"
  },
  "orig_nbformat": 4,
  "vscode": {
   "interpreter": {
    "hash": "ca0592fd784d5b1ea4ddfe664e5caa47384cb18ff3ac4de613a3d11f4d5bc006"
   }
  }
 },
 "nbformat": 4,
 "nbformat_minor": 2
}
