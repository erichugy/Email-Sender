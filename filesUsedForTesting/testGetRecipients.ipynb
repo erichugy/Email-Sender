{
 "cells": [
  {
   "attachments": {},
   "cell_type": "markdown",
   "metadata": {},
   "source": [
    "# Title\n"
   ]
  },
  {
   "cell_type": "code",
   "execution_count": 21,
   "metadata": {},
   "outputs": [],
   "source": [
    "import gspread\n",
    "import pandas as pd\n",
    "import numpy as np\n",
    "import os\n",
    "import datetime as dt\n",
    "import csv"
   ]
  },
  {
   "attachments": {},
   "cell_type": "markdown",
   "metadata": {},
   "source": [
    "# Inputs"
   ]
  },
  {
   "cell_type": "code",
   "execution_count": 22,
   "metadata": {},
   "outputs": [],
   "source": [
    "DATE = dt.datetime.today()\n",
    "ENTRY_NUMBER = 0 #Usually the date unless you do it more than once in the same day"
   ]
  },
  {
   "attachments": {},
   "cell_type": "markdown",
   "metadata": {},
   "source": [
    "# Global Variables"
   ]
  },
  {
   "cell_type": "code",
   "execution_count": 23,
   "metadata": {},
   "outputs": [],
   "source": [
    "#Date\n",
    "DATE_FORMAT = r\"%Y-%m-%d\"\n",
    "DATE_STR = DATE.strftime(DATE_FORMAT)\n",
    "\n",
    "\n",
    "#Pathing\n",
    "ROOT = os.getcwd()\n",
    "CREDENTIALS_FILENAME = \"bot-credentials.json\"\n",
    "PATH_TO_CREDENTIALS = f\"{ROOT}\\\\{CREDENTIALS_FILENAME}\"\n",
    "\n",
    "#Filenames\n",
    "SHEETNAME = \"Email Subscribers\"\n",
    "TABNAME = \"Emails\"\n",
    "\n",
    "\n",
    "\n",
    "\n"
   ]
  },
  {
   "attachments": {},
   "cell_type": "markdown",
   "metadata": {},
   "source": [
    "# Main Code"
   ]
  },
  {
   "attachments": {},
   "cell_type": "markdown",
   "metadata": {},
   "source": [
    "Opening up the file"
   ]
  },
  {
   "cell_type": "code",
   "execution_count": 24,
   "metadata": {},
   "outputs": [],
   "source": [
    "\n",
    "client = gspread.service_account(filename=PATH_TO_CREDENTIALS)\n",
    "\n",
    "# Open the Google Sheets document and get the specified sheet\n",
    "spreadsheet = client.open(SHEETNAME)\n",
    "worksheet = spreadsheet.get_worksheet(0)  # Get the first worksheet\n"
   ]
  },
  {
   "attachments": {},
   "cell_type": "markdown",
   "metadata": {},
   "source": [
    "Read the sheet as a list of dictionaries, where each dictionary represents a row in the sheet and the keys are the column names."
   ]
  },
  {
   "cell_type": "code",
   "execution_count": 25,
   "metadata": {},
   "outputs": [
    {
     "name": "stdout",
     "output_type": "stream",
     "text": [
      "{'First Name': 'Eric', 'Last Name': 'Huang', 'Title': 'M', 'Email': 'fireshot2002@gmail.com', 'Organization': '', 'LinkedIn': '', 'Relationship': 'Myself', 'Check': 'TRUE'}\n",
      "{'First Name': 'Elaine', 'Last Name': 'Huang', 'Title': '', 'Email': 'Huang12211@gmail.com', 'Organization': '', 'LinkedIn': '', 'Relationship': 'Friend', 'Check': 'TRUE'}\n",
      "{'First Name': 'Ciara', 'Last Name': 'Burrows', 'Title': '', 'Email': 'ciara.cburrows@gmail.com', 'Organization': '', 'LinkedIn': '', 'Relationship': 'Friend', 'Check': 'FALSE'}\n",
      "{'First Name': 'Utsav', 'Last Name': 'Sadana', 'Title': '', 'Email': 'utsav.sadana@mcgill.ca', 'Organization': '', 'LinkedIn': '', 'Relationship': 'Teacher', 'Check': 'TRUE'}\n",
      "{'First Name': 'Jesse', 'Last Name': 'Lessard', 'Title': '', 'Email': 'lessard.jess@hotmail.com', 'Organization': '', 'LinkedIn': '', 'Relationship': 'Previous Colleague', 'Check': 'TRUE'}\n",
      "{'First Name': 'Adam', 'Last Name': 'Simard', 'Title': '', 'Email': 'adamsimard1@gmail.com', 'Organization': '', 'LinkedIn': '', 'Relationship': 'Friend', 'Check': 'TRUE'}\n",
      "{'First Name': '', 'Last Name': '', 'Title': '', 'Email': '', 'Organization': '', 'LinkedIn': '', 'Relationship': '', 'Check': 'TRUE'}\n",
      "{'First Name': '', 'Last Name': '', 'Title': '', 'Email': '', 'Organization': '', 'LinkedIn': '', 'Relationship': '', 'Check': 'TRUE'}\n",
      "{'First Name': '', 'Last Name': '', 'Title': '', 'Email': '', 'Organization': '', 'LinkedIn': '', 'Relationship': '', 'Check': 'TRUE'}\n",
      "{'First Name': '', 'Last Name': '', 'Title': '', 'Email': '', 'Organization': '', 'LinkedIn': '', 'Relationship': '', 'Check': 'TRUE'}\n",
      "{'First Name': '', 'Last Name': '', 'Title': '', 'Email': '', 'Organization': '', 'LinkedIn': '', 'Relationship': '', 'Check': 'TRUE'}\n",
      "{'First Name': '', 'Last Name': '', 'Title': '', 'Email': '', 'Organization': '', 'LinkedIn': '', 'Relationship': '', 'Check': 'TRUE'}\n",
      "{'First Name': '', 'Last Name': '', 'Title': '', 'Email': '', 'Organization': '', 'LinkedIn': '', 'Relationship': '', 'Check': 'TRUE'}\n",
      "{'First Name': '', 'Last Name': '', 'Title': '', 'Email': '', 'Organization': '', 'LinkedIn': '', 'Relationship': '', 'Check': 'TRUE'}\n",
      "{'First Name': '', 'Last Name': '', 'Title': '', 'Email': '', 'Organization': '', 'LinkedIn': '', 'Relationship': '', 'Check': 'TRUE'}\n",
      "{'First Name': '', 'Last Name': '', 'Title': '', 'Email': '', 'Organization': '', 'LinkedIn': '', 'Relationship': '', 'Check': 'TRUE'}\n",
      "{'First Name': '', 'Last Name': '', 'Title': '', 'Email': '', 'Organization': '', 'LinkedIn': '', 'Relationship': '', 'Check': 'TRUE'}\n",
      "{'First Name': '', 'Last Name': '', 'Title': '', 'Email': '', 'Organization': '', 'LinkedIn': '', 'Relationship': '', 'Check': 'TRUE'}\n",
      "{'First Name': '', 'Last Name': '', 'Title': '', 'Email': '', 'Organization': '', 'LinkedIn': '', 'Relationship': '', 'Check': 'TRUE'}\n",
      "{'First Name': '', 'Last Name': '', 'Title': '', 'Email': '', 'Organization': '', 'LinkedIn': '', 'Relationship': '', 'Check': 'TRUE'}\n",
      "{'First Name': '', 'Last Name': '', 'Title': '', 'Email': '', 'Organization': '', 'LinkedIn': '', 'Relationship': '', 'Check': 'TRUE'}\n",
      "{'First Name': '', 'Last Name': '', 'Title': '', 'Email': '', 'Organization': '', 'LinkedIn': '', 'Relationship': '', 'Check': 'TRUE'}\n"
     ]
    }
   ],
   "source": [
    "# Read all the rows in the sheet as a list of dictionaries\n",
    "data = worksheet.get_all_records()\n",
    "\n",
    "# Print the data to the console\n",
    "for row in data:\n",
    "    print(row)"
   ]
  },
  {
   "cell_type": "code",
   "execution_count": 41,
   "metadata": {},
   "outputs": [
    {
     "data": {
      "text/plain": [
       "'fireshot2002@gmail.com; Huang12211@gmail.com; utsav.sadana@mcgill.ca; lessard.jess@hotmail.com; adamsimard1@gmail.com'"
      ]
     },
     "execution_count": 41,
     "metadata": {},
     "output_type": "execute_result"
    }
   ],
   "source": [
    "df = pd.DataFrame.from_dict(data)\n",
    "df.head()\n",
    "\n",
    "# Drop Emtpy Rows\n",
    "df = df[df.Email != \"\"] #Dropna won't work cuz Sheets turns everything into text\n",
    "\n",
    "# Drop Check == False, since check means send them an email\n",
    "df = df[df.Check == \"TRUE\"]\n",
    "\n",
    "def emails_to_string(emails: pd.Series) -> str:\n",
    "    \"\"\"Converts a pandas series of emails to a string with each email separated by a semicolon.\n",
    "\n",
    "    Args:\n",
    "        emails: A pandas series containing the emails.\n",
    "\n",
    "    Returns:\n",
    "        A string with each email separated by a semicolon.\n",
    "    \"\"\"\n",
    "    return \"; \".join(emails)\n",
    "\n",
    "emails = df[\"Email\"]\n",
    "emails_to_string(emails)\n",
    "\n"
   ]
  },
  {
   "attachments": {},
   "cell_type": "markdown",
   "metadata": {},
   "source": [
    "Already Emailed"
   ]
  },
  {
   "cell_type": "code",
   "execution_count": 27,
   "metadata": {},
   "outputs": [],
   "source": [
    "def record_emailed_list(\n",
    "    emails,\n",
    "    new_filename = f\"Emailed_List_{DATE_STR}-v{ENTRY_NUMBER}.csv\"\n",
    "    ):\n",
    "    \"\"\"\n",
    "    Emails : list<str>\n",
    "    \"\"\"\n",
    "    fields = [\"Email\"]\n",
    "    rows = [[x] for x in emails]\n",
    "    \"\"\" \n",
    "    need to change it to the form\n",
    "        rows = [ ['XYZ', '011', '2000'], \n",
    "            ['ABC', '012', '8000'],\n",
    "            ['PQR', '351', '5000'],\n",
    "            ['EFG', '146', '10000'] ] \n",
    "    \"\"\"\n",
    "\n",
    "    with open(f\"{ROOT}\\\\{new_filename}\", 'w') as f:\n",
    "        csv_writer = csv.writer(f)\n",
    "        csv_writer.writerow(fields)\n",
    "        csv_writer.writerows(rows)\n",
    "\n",
    "# record_emailed_list([\"fireshot02@gmail.com\"])\n"
   ]
  }
 ],
 "metadata": {
  "kernelspec": {
   "display_name": "email-sender-env",
   "language": "python",
   "name": "python3"
  },
  "language_info": {
   "codemirror_mode": {
    "name": "ipython",
    "version": 3
   },
   "file_extension": ".py",
   "mimetype": "text/x-python",
   "name": "python",
   "nbconvert_exporter": "python",
   "pygments_lexer": "ipython3",
   "version": "3.10.8 | packaged by conda-forge | (main, Nov 24 2022, 14:07:00) [MSC v.1916 64 bit (AMD64)]"
  },
  "orig_nbformat": 4,
  "vscode": {
   "interpreter": {
    "hash": "ca0592fd784d5b1ea4ddfe664e5caa47384cb18ff3ac4de613a3d11f4d5bc006"
   }
  }
 },
 "nbformat": 4,
 "nbformat_minor": 2
}
