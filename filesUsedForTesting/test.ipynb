{
 "cells": [
  {
   "cell_type": "code",
   "execution_count": null,
   "metadata": {},
   "outputs": [],
   "source": [
    "import win32com.client as win32\n",
    "import os\n",
    "import datetime as dt\n",
    "cwd = os.path.abspath(os.getcwd())\n",
    "\n",
    "#Create Outlook Application Instance \n",
    "outlook = win32.Dispatch(\"Outlook.Application\")\n",
    "mail = outlook.CreateItem(0)\n",
    "# mail.To = 'fireshot2002@gmail.com; eric.huang3143@gmail.com'\n",
    "mail.BCC = 'fireshot2002@gmail.com; eric.huang3143@gmail.com'\n",
    "\n",
    "mail.Subject = 'Subject'\n",
    "with open('test.htm', 'r') as file:\n",
    "    html = file.read()\n",
    "with open(cwd + r\"\\Signatures\\Uni Student (eric.huang5@mail.mcgill.ca).htm\", \"r\") as file:\n",
    "    signature = file.read()\n",
    "# signature = outlook.Session.Accounts.Item(1).DeliveryStore.GetDefaultFolder(6).Items.Item(1).Body\n",
    "mail.HTMLBody = html + \"<p><\\p>\"*2 + signature\n",
    "\n",
    "\n",
    "\n",
    "send_time = dt.datetime(2023, 1, 10, 10, 0, 0)\n",
    "mail.DeferredDeliveryTime = send_time\n",
    "\n",
    "# mail.Body = 'Message body'\n",
    "mail.Send()"
   ]
  },
  {
   "cell_type": "code",
   "execution_count": 2,
   "metadata": {},
   "outputs": [
    {
     "name": "stdout",
     "output_type": "stream",
     "text": [
      "msg_2023-01-09\n"
     ]
    }
   ],
   "source": [
    "WORD_PATH = r\"C:\\Users\\Eric Huang\\Desktop\\Coding\\Email Sender\\msg_2023-01-09.docx\"\n",
    "import os\n",
    "\n",
    "def extract_filename(path: str) -> str:\n",
    "    \"\"\"Extracts the filename (without the file type) from a file path.\n",
    "\n",
    "    Args:\n",
    "        path: The file path.\n",
    "\n",
    "    Returns:\n",
    "        The filename without the file type.\n",
    "    \"\"\"\n",
    "    return os.path.splitext(os.path.basename(path))[0]\n",
    "print(extract_filename(WORD_PATH))\n"
   ]
  },
  {
   "cell_type": "code",
   "execution_count": 6,
   "metadata": {},
   "outputs": [],
   "source": [
    "class Email:\n",
    "    import win32com.client as win32\n",
    "\n",
    "    # Create Outlook Application Instance for whole class\n",
    "    outlook = win32.Dispatch(\"Outlook.Application\")\n",
    "    \n",
    "    # Email Instance\n",
    "    def __init__(self, \n",
    "                recipients : str, \n",
    "                subject : str, \n",
    "                msg : str, \n",
    "                bcc : bool = True, #If you want to use BCC or To\n",
    "                attachments = None\n",
    "                ) -> None:\n",
    "                \n",
    "        self.mail = Email.outlook.CreateItem(0);\n",
    "        self.subject = subject;\n",
    "        self.body = msg;\n",
    "        self.bcc = bcc;\n",
    "\n",
    "\n",
    "        # Using Getter Setter\n",
    "        self.to = recipients;\n",
    "\n",
    "        if attachments:\n",
    "            pass\n",
    "    \n",
    "    #---------------------------\n",
    "    # Getter/Setter Section\n",
    "    @property\n",
    "    def to(self): #Getter\n",
    "        return self._to\n",
    "    \n",
    "    # a setter function\n",
    "    @to.setter\n",
    "    def to(self, recipients):\n",
    "        self._to = recipients\n",
    "        if self.bcc:\n",
    "            self.mail.BCC = self._to\n",
    "        else:\n",
    "            self.mail.To = self._to\n",
    "\n",
    "    #--------------------------\n",
    "\n",
    "\n",
    "    def save_draft(self):\n",
    "        self.mail.Save()\n",
    "        \n",
    "    def send(self):\n",
    "        self.mail.Send()\n",
    "\n",
    "    def __str__(self) -> str:\n",
    "        lines = [\n",
    "            f\"To: {self.to}\",\n",
    "            f\"Subject Line: {self.subject}\",\n",
    "            f\"Email Body (below): \\n{self.body}\"\n",
    "        ]\n",
    "        return \"\\n\".join(lines)\n"
   ]
  },
  {
   "cell_type": "code",
   "execution_count": 7,
   "metadata": {},
   "outputs": [
    {
     "name": "stdout",
     "output_type": "stream",
     "text": [
      "To: fireshot2002@gmail.com\n",
      "Subject Line: Hello\n",
      "Email Body (below): \n",
      "Body\n"
     ]
    }
   ],
   "source": [
    "A = Email(\n",
    "    \"fireshot2002@gmail.com\",\n",
    "    \"Hello\",\n",
    "    \"Body\",\n",
    "    \n",
    ")\n",
    "print(A)\n"
   ]
  },
  {
   "cell_type": "markdown",
   "metadata": {},
   "source": [
    "A = Email()\n"
   ]
  }
 ],
 "metadata": {
  "kernelspec": {
   "display_name": "email-sender-env",
   "language": "python",
   "name": "python3"
  },
  "language_info": {
   "codemirror_mode": {
    "name": "ipython",
    "version": 3
   },
   "file_extension": ".py",
   "mimetype": "text/x-python",
   "name": "python",
   "nbconvert_exporter": "python",
   "pygments_lexer": "ipython3",
   "version": "3.10.8"
  },
  "orig_nbformat": 4,
  "vscode": {
   "interpreter": {
    "hash": "ca0592fd784d5b1ea4ddfe664e5caa47384cb18ff3ac4de613a3d11f4d5bc006"
   }
  }
 },
 "nbformat": 4,
 "nbformat_minor": 2
}
